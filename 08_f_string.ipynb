{
 "cells": [
  {
   "cell_type": "code",
   "execution_count": 3,
   "id": "064d4655-17d6-4aaf-bbad-dbb3ce12dbbd",
   "metadata": {},
   "outputs": [
    {
     "name": "stdout",
     "output_type": "stream",
     "text": [
      "I am Saheem and I'm 18 years old\n"
     ]
    }
   ],
   "source": [
    "name = \"Saheem\"\n",
    "age = 18\n",
    "\n",
    "print(f\"I am {name} and I'm {age} years old\")\n"
   ]
  },
  {
   "cell_type": "code",
   "execution_count": null,
   "id": "b7c66191-d2d5-438d-969b-3c3b263f5f7b",
   "metadata": {},
   "outputs": [],
   "source": []
  }
 ],
 "metadata": {
  "kernelspec": {
   "display_name": "Python [conda env:base] *",
   "language": "python",
   "name": "conda-base-py"
  },
  "language_info": {
   "codemirror_mode": {
    "name": "ipython",
    "version": 3
   },
   "file_extension": ".py",
   "mimetype": "text/x-python",
   "name": "python",
   "nbconvert_exporter": "python",
   "pygments_lexer": "ipython3",
   "version": "3.12.7"
  }
 },
 "nbformat": 4,
 "nbformat_minor": 5
}
