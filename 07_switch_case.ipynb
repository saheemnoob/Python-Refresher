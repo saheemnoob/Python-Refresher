{
 "cells": [
  {
   "cell_type": "code",
   "execution_count": 2,
   "id": "ff6c99be-7b52-496c-81ff-f0c93a917cfc",
   "metadata": {},
   "outputs": [
    {
     "name": "stdout",
     "output_type": "stream",
     "text": [
      "Point at (3, 4)\n"
     ]
    }
   ],
   "source": [
    "point = (3, 4)\n",
    "\n",
    "match point:\n",
    "    case (0, 0):\n",
    "        print(\"Origin\")\n",
    "    case (x, 0):\n",
    "        print(f\"X-Axis at {x}\")\n",
    "    case (0, y):\n",
    "        print(f\"Y-Axis at {y}\")\n",
    "    case (x, y):\n",
    "        print(f\"Point at ({x}, {y})\")"
   ]
  },
  {
   "cell_type": "code",
   "execution_count": null,
   "id": "08777f4b-563c-4fb6-a88f-92cfb610352c",
   "metadata": {},
   "outputs": [],
   "source": []
  }
 ],
 "metadata": {
  "kernelspec": {
   "display_name": "Python [conda env:base] *",
   "language": "python",
   "name": "conda-base-py"
  },
  "language_info": {
   "codemirror_mode": {
    "name": "ipython",
    "version": 3
   },
   "file_extension": ".py",
   "mimetype": "text/x-python",
   "name": "python",
   "nbconvert_exporter": "python",
   "pygments_lexer": "ipython3",
   "version": "3.12.7"
  }
 },
 "nbformat": 4,
 "nbformat_minor": 5
}
