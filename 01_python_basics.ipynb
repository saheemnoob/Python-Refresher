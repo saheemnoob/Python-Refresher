{
 "cells": [
  {
   "cell_type": "code",
   "execution_count": 4,
   "id": "e74d497c-2239-499d-ab94-9a07edf011fe",
   "metadata": {},
   "outputs": [
    {
     "name": "stdout",
     "output_type": "stream",
     "text": [
      "Hello, World\n"
     ]
    }
   ],
   "source": [
    "print(\"Hello, World\")"
   ]
  },
  {
   "cell_type": "code",
   "execution_count": 12,
   "id": "7d07043b-c0f8-4cba-af3c-6cb4c9ac0fc1",
   "metadata": {},
   "outputs": [
    {
     "name": "stdout",
     "output_type": "stream",
     "text": [
      "24\n"
     ]
    }
   ],
   "source": [
    "a=12\n",
    "b=12\n",
    "c=a+b\n",
    "print(c)\n"
   ]
  },
  {
   "cell_type": "code",
   "execution_count": 14,
   "id": "ef118413-bab1-48ea-9517-1ee933210056",
   "metadata": {},
   "outputs": [],
   "source": [
    "#I am a commnet"
   ]
  },
  {
   "cell_type": "code",
   "execution_count": 16,
   "id": "44872169-8c73-4e93-bc64-7af2a6992688",
   "metadata": {},
   "outputs": [],
   "source": [
    "str = \"hello, I am a learning Data Science with CodeWithHarry\"\n"
   ]
  },
  {
   "cell_type": "code",
   "execution_count": 18,
   "id": "e94ca6c5-b4d6-42a8-b15a-837dac873bdd",
   "metadata": {},
   "outputs": [],
   "source": [
    "pi=3.14\n"
   ]
  },
  {
   "cell_type": "code",
   "execution_count": 20,
   "id": "3d702409-dacc-40bb-9430-e8860aabd737",
   "metadata": {},
   "outputs": [
    {
     "data": {
      "text/plain": [
       "float"
      ]
     },
     "execution_count": 20,
     "metadata": {},
     "output_type": "execute_result"
    }
   ],
   "source": [
    "type(pi)"
   ]
  },
  {
   "cell_type": "code",
   "execution_count": 22,
   "id": "1d56ba74-a5bf-4803-ad87-b352ae14511b",
   "metadata": {},
   "outputs": [],
   "source": [
    "integer_pi=int(pi)"
   ]
  },
  {
   "cell_type": "code",
   "execution_count": 24,
   "id": "d02c1891-24a9-4123-84fa-b9c03de7b283",
   "metadata": {},
   "outputs": [
    {
     "name": "stdout",
     "output_type": "stream",
     "text": [
      "3\n"
     ]
    }
   ],
   "source": [
    "print(integer_pi)\n"
   ]
  },
  {
   "cell_type": "code",
   "execution_count": null,
   "id": "fca2715d-615c-4da0-be31-8ffd7a619b71",
   "metadata": {},
   "outputs": [],
   "source": []
  }
 ],
 "metadata": {
  "kernelspec": {
   "display_name": "Python [conda env:base] *",
   "language": "python",
   "name": "conda-base-py"
  },
  "language_info": {
   "codemirror_mode": {
    "name": "ipython",
    "version": 3
   },
   "file_extension": ".py",
   "mimetype": "text/x-python",
   "name": "python",
   "nbconvert_exporter": "python",
   "pygments_lexer": "ipython3",
   "version": "3.12.7"
  }
 },
 "nbformat": 4,
 "nbformat_minor": 5
}
