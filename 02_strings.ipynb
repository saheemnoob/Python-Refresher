{
 "cells": [
  {
   "cell_type": "code",
   "execution_count": 3,
   "id": "ef65edbd-ac27-4941-852b-c5875a95f298",
   "metadata": {},
   "outputs": [],
   "source": [
    "name = \"Saheem\""
   ]
  },
  {
   "cell_type": "code",
   "execution_count": 5,
   "id": "1f071ca0-06e0-4155-be90-cf975d3f81f3",
   "metadata": {},
   "outputs": [
    {
     "name": "stdout",
     "output_type": "stream",
     "text": [
      "SAHEEM\n"
     ]
    }
   ],
   "source": [
    "print(name.upper())\n"
   ]
  },
  {
   "cell_type": "code",
   "execution_count": 13,
   "id": "a5ce8e9e-5076-42d0-bc30-4eb29285105c",
   "metadata": {},
   "outputs": [
    {
     "name": "stdout",
     "output_type": "stream",
     "text": [
      "saheem\n"
     ]
    }
   ],
   "source": [
    "print(name.lower())"
   ]
  },
  {
   "cell_type": "code",
   "execution_count": 15,
   "id": "bb23d582-bddd-419e-a734-fbda7439e0cd",
   "metadata": {},
   "outputs": [
    {
     "name": "stdout",
     "output_type": "stream",
     "text": [
      "1\n"
     ]
    }
   ],
   "source": [
    "print(name.count(\"S\"))"
   ]
  },
  {
   "cell_type": "code",
   "execution_count": 17,
   "id": "e90820dc-ca9b-440c-a3e9-bd2a786df7a2",
   "metadata": {},
   "outputs": [
    {
     "name": "stdout",
     "output_type": "stream",
     "text": [
      "S\n"
     ]
    }
   ],
   "source": [
    "print(name[0])"
   ]
  }
 ],
 "metadata": {
  "kernelspec": {
   "display_name": "Python [conda env:base] *",
   "language": "python",
   "name": "conda-base-py"
  },
  "language_info": {
   "codemirror_mode": {
    "name": "ipython",
    "version": 3
   },
   "file_extension": ".py",
   "mimetype": "text/x-python",
   "name": "python",
   "nbconvert_exporter": "python",
   "pygments_lexer": "ipython3",
   "version": "3.12.7"
  }
 },
 "nbformat": 4,
 "nbformat_minor": 5
}
