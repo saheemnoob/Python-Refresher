{
 "cells": [
  {
   "cell_type": "code",
   "execution_count": 5,
   "id": "633234ef-6139-449f-af8b-a56517eeec8f",
   "metadata": {},
   "outputs": [
    {
     "name": "stdout",
     "output_type": "stream",
     "text": [
      "Addition is : 50\n",
      "Subtraction is : 10\n",
      "Multiplication is : 600\n",
      "Division is : 1.5\n"
     ]
    }
   ],
   "source": [
    "#Arithmetic Operators\n",
    "a=30\n",
    "b=20\n",
    "add=a+b\n",
    "sub=a-b\n",
    "div=a/b\n",
    "mul=a*b\n",
    "modl=a%b\n",
    "print(f\"Addition is : {add}\\nSubtraction is : {sub}\\nMultiplication is : {mul}\\nDivision is : {div}\")"
   ]
  },
  {
   "cell_type": "code",
   "execution_count": 7,
   "id": "88c04d95-1ddf-4e77-a448-73c59a6ef3ab",
   "metadata": {},
   "outputs": [
    {
     "name": "stdout",
     "output_type": "stream",
     "text": [
      "20 is greater\n"
     ]
    }
   ],
   "source": [
    "#Comparison Operators\n",
    "a=10\n",
    "b=20\n",
    "if(a>b):\n",
    "    print(f\"{a} is greater\")\n",
    "else:\n",
    "    print(f\"{b} is greater\")\n"
   ]
  },
  {
   "cell_type": "code",
   "execution_count": 17,
   "id": "a64c5327-7a96-4611-9cf6-41c553b0cdd0",
   "metadata": {},
   "outputs": [
    {
     "name": "stdout",
     "output_type": "stream",
     "text": [
      "Illegible\n"
     ]
    }
   ],
   "source": [
    "#Logical Operators\n",
    "#Suppose a candidate is eligible only when he's age is greater than 18 and has a voter id\n",
    "\n",
    "age=19\n",
    "hasId=False\n",
    "if(age>18 and hasId):\n",
    "    print(\"Eligible\")\n",
    "else:\n",
    "    print(\"Illegible\")"
   ]
  },
  {
   "cell_type": "code",
   "execution_count": 19,
   "id": "feab02b9-ffb3-455a-8058-59b0648a2025",
   "metadata": {},
   "outputs": [
    {
     "name": "stdout",
     "output_type": "stream",
     "text": [
      "1 7\n"
     ]
    }
   ],
   "source": [
    "#Bitwise Operator\n",
    "a=5\n",
    "b=3\n",
    "bitwise_and=a&b\n",
    "bitwise_or=a|b\n",
    "print(bitwise_and,bitwise_or)"
   ]
  },
  {
   "cell_type": "code",
   "execution_count": 27,
   "id": "21b9dc66-516d-4969-986d-ebb53d79f851",
   "metadata": {},
   "outputs": [
    {
     "name": "stdout",
     "output_type": "stream",
     "text": [
      "1\n",
      "2\n",
      "3\n",
      "4\n",
      "5\n",
      "6\n",
      "7\n",
      "8\n",
      "9\n",
      "10\n",
      "11\n",
      "12\n",
      "13\n",
      "14\n",
      "15\n",
      "16\n",
      "17\n",
      "18\n",
      "19\n",
      "20\n",
      "21\n",
      "22\n",
      "23\n",
      "24\n",
      "25\n",
      "26\n",
      "27\n",
      "28\n",
      "29\n",
      "30\n",
      "31\n",
      "32\n",
      "33\n",
      "34\n",
      "35\n",
      "36\n",
      "37\n",
      "38\n",
      "39\n",
      "40\n",
      "41\n",
      "42\n",
      "43\n",
      "44\n",
      "45\n",
      "46\n",
      "47\n",
      "48\n",
      "49\n",
      "50\n",
      "51\n",
      "52\n",
      "53\n",
      "54\n",
      "55\n",
      "56\n",
      "57\n",
      "58\n",
      "59\n",
      "60\n",
      "61\n",
      "62\n",
      "63\n",
      "64\n",
      "65\n",
      "66\n",
      "67\n",
      "68\n",
      "69\n",
      "70\n",
      "71\n",
      "72\n",
      "73\n",
      "74\n",
      "75\n",
      "76\n",
      "77\n",
      "78\n",
      "79\n",
      "80\n",
      "81\n",
      "82\n",
      "83\n",
      "84\n",
      "85\n",
      "86\n",
      "87\n",
      "88\n",
      "89\n",
      "90\n",
      "91\n",
      "92\n",
      "93\n",
      "94\n",
      "95\n",
      "96\n",
      "97\n",
      "98\n",
      "99\n",
      "100\n"
     ]
    }
   ],
   "source": [
    "#Assignment Operators\n",
    "a=0\n",
    "for i in range (1,101):\n",
    "    a=a+1\n",
    "    print(a)"
   ]
  },
  {
   "cell_type": "code",
   "execution_count": 29,
   "id": "9f2b2880-6601-4e01-877c-a91eedb6145d",
   "metadata": {},
   "outputs": [
    {
     "name": "stdout",
     "output_type": "stream",
     "text": [
      "Shanks isn't present\n"
     ]
    }
   ],
   "source": [
    "chars=[\"Luffy\",\"Zoro\",\"Sanji\"]\n",
    "if \"Shanks\" in chars:\n",
    "    print(\"Shanks is present\")\n",
    "else:\n",
    "    print(\"Shanks isn't present\")"
   ]
  },
  {
   "cell_type": "code",
   "execution_count": null,
   "id": "16484d06-59ba-47c0-8f41-b8e34ffb4c13",
   "metadata": {},
   "outputs": [],
   "source": []
  }
 ],
 "metadata": {
  "kernelspec": {
   "display_name": "Python [conda env:base] *",
   "language": "python",
   "name": "conda-base-py"
  },
  "language_info": {
   "codemirror_mode": {
    "name": "ipython",
    "version": 3
   },
   "file_extension": ".py",
   "mimetype": "text/x-python",
   "name": "python",
   "nbconvert_exporter": "python",
   "pygments_lexer": "ipython3",
   "version": "3.12.7"
  }
 },
 "nbformat": 4,
 "nbformat_minor": 5
}
